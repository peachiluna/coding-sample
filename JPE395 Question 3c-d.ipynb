{
 "cells": [
  {
   "cell_type": "code",
   "execution_count": 197,
   "id": "d1bb6004",
   "metadata": {},
   "outputs": [],
   "source": [
    "import numpy as np\n",
    "import pandas as pd\n",
    "import scipy as sp\n",
    "import matplotlib.pyplot as plt\n",
    "import scipy.optimize as sciopt\n",
    "from scipy.optimize import curve_fit\n",
    "from scipy.optimize import leastsq"
   ]
  },
  {
   "cell_type": "markdown",
   "id": "e7ae83f9",
   "metadata": {},
   "source": [
    "## Question 3"
   ]
  },
  {
   "cell_type": "code",
   "execution_count": 198,
   "id": "5362d8af",
   "metadata": {},
   "outputs": [],
   "source": [
    "# Reading in .csv Files\n",
    "lat = np.loadtxt('SpreadingRates.csv', usecols = 0, delimiter=\",\")\n",
    "long = np.loadtxt('SpreadingRates.csv', usecols = 1, delimiter=\",\")\n",
    "spr_rate = np.loadtxt('SpreadingRates.csv', usecols = 2, delimiter=\",\")\n",
    "\n",
    "#Earth Radius\n",
    "r_earth = 6371 #km"
   ]
  },
  {
   "cell_type": "code",
   "execution_count": 199,
   "id": "a95aa8dd",
   "metadata": {},
   "outputs": [],
   "source": [
    "#Creating a function to find Position Vector (r)\n",
    "def p_vec(theta, phi):\n",
    "    px = r_earth*np.sin(np.deg2rad(90 - theta))*np.cos(np.deg2rad(phi))\n",
    "    py = r_earth*np.sin(np.deg2rad(90 - theta))*np.sin(np.deg2rad(phi))\n",
    "    pz = r_earth*np.cos(np.deg2rad(90 - theta))\n",
    "    pvec = px, py, pz\n",
    "    return list(pvec)"
   ]
  },
  {
   "cell_type": "code",
   "execution_count": 200,
   "id": "ba2c2259",
   "metadata": {},
   "outputs": [],
   "source": [
    "#Creating a function to find Euler Pole vector (Question 3b)\n",
    "def o_vec(theta, phi):\n",
    "    ox = (np.deg2rad(omega))*np.sin(np.deg2rad(90 - theta))*np.cos(np.deg2rad(phi))\n",
    "    oy = (np.deg2rad(omega))*np.sin(np.deg2rad(90 - theta))*np.sin(np.deg2rad(phi))\n",
    "    oz = (np.deg2rad(omega))*np.cos(np.deg2rad(90 - theta))\n",
    "    ovec = ox, oy, oz\n",
    "    return np.array(ovec)"
   ]
  },
  {
   "cell_type": "code",
   "execution_count": 201,
   "id": "6a705468",
   "metadata": {},
   "outputs": [
    {
     "name": "stdout",
     "output_type": "stream",
     "text": [
      "Omega_vector = [0.00908031 0.0071455  0.00271012] rad/Myr\n"
     ]
    }
   ],
   "source": [
    "#From Part 3b, our Euler Pole had latitude = 13.2, longitude = 38.2, omega = 0.68\n",
    "omega = 0.68 #deg/Myr\n",
    "omega_vector = o_vec(13.2, 38.2)\n",
    "print('Omega_vector =', np.array(omega_vector), 'rad/Myr')"
   ]
  },
  {
   "cell_type": "code",
   "execution_count": 202,
   "id": "0822bec8",
   "metadata": {},
   "outputs": [
    {
     "name": "stdout",
     "output_type": "stream",
     "text": [
      "[[ 1.93998754e+03  1.80769181e+03  1.76767770e+03  1.75266901e+03\n",
      "   1.67744491e+03  1.55053155e+03  1.53164694e+03  1.41645596e+03\n",
      "   1.32618098e+03  1.20356296e+03  1.03405260e+03  1.00113187e+03\n",
      "   9.35343764e+02  7.23980238e+02  2.88079727e-13 -8.21124457e+00\n",
      "  -2.09638704e+02 -3.03727577e+02 -4.85239557e+02 -1.42140480e+03\n",
      "  -1.51765987e+03 -1.66566784e+03 -1.97478031e+03 -2.17304990e+03\n",
      "  -2.34891014e+03 -2.54401538e+03 -2.66427424e+03 -2.71821199e+03\n",
      "  -2.72351392e+03 -2.73409287e+03 -2.74937499e+03 -2.82186098e+03\n",
      "  -2.87158061e+03 -3.00471684e+03 -3.01573358e+03 -2.72372647e+03\n",
      "  -2.73865627e+03 -2.75732987e+03]\n",
      " [ 5.39738816e+03  5.42463721e+03  5.42745689e+03  5.41666909e+03\n",
      "   5.38565557e+03  5.40734612e+03  5.41272554e+03  5.36107063e+03\n",
      "   5.27974777e+03  5.25503182e+03  5.12832944e+03  5.05608543e+03\n",
      "   4.72383119e+03  4.73123204e+03  4.70469898e+03  4.70469181e+03\n",
      "   4.61660275e+03  4.57283819e+03  4.32600811e+03  3.86326512e+03\n",
      "   3.79442038e+03  3.74115123e+03  3.60701004e+03  3.49115065e+03\n",
      "   3.35459134e+03  3.19826566e+03  3.06489692e+03  3.04015467e+03\n",
      "   3.03540587e+03  3.02588054e+03  3.00041630e+03  2.93234743e+03\n",
      "   2.87158061e+03  2.52125679e+03  2.11163939e+03  1.11153218e+03\n",
      "   1.10093276e+03  1.08058576e+03]\n",
      " [-2.77385840e+03 -2.80984029e+03 -2.82978238e+03 -2.85963080e+03\n",
      "  -2.96150867e+03 -2.99100333e+03 -2.99100333e+03 -3.13723050e+03\n",
      "  -3.30985626e+03 -3.39495475e+03 -3.63601614e+03 -3.74477984e+03\n",
      "  -4.17135372e+03 -4.20487063e+03 -4.29598051e+03 -4.29598051e+03\n",
      "  -4.38550700e+03 -4.42566848e+03 -4.65186386e+03 -4.86255406e+03\n",
      "  -4.88760918e+03 -4.88046915e+03 -4.86614450e+03 -4.86614450e+03\n",
      "  -4.88046915e+03 -4.88760918e+03 -4.90893987e+03 -4.89473433e+03\n",
      "  -4.89473433e+03 -4.89473433e+03 -4.90184457e+03 -4.90184457e+03\n",
      "  -4.90893987e+03 -5.02041651e+03 -5.19961259e+03 -5.65114602e+03\n",
      "  -5.64600300e+03 -5.64084279e+03]]\n",
      "3\n"
     ]
    }
   ],
   "source": [
    "#Finding R vector: use the latitude and longitude values from the .csv file in our position vector funtion\n",
    "r = p_vec(lat,long)\n",
    "\n",
    "#Reshape output \n",
    "rr = np.reshape(r, (3, 38))\n",
    "print(rr)\n",
    "print(len(rr))"
   ]
  },
  {
   "cell_type": "code",
   "execution_count": 203,
   "id": "65fc3be4",
   "metadata": {},
   "outputs": [
    {
     "name": "stdout",
     "output_type": "stream",
     "text": [
      "w * r =  [ 48.66525461  47.56116068  47.16392236  46.8696617   45.68889446\n",
      "  44.61153688  44.47849738  42.66713312  40.79847815  39.27783265\n",
      "  36.17996711  35.0700538   30.94248581  28.98528633  21.97480684\n",
      "  21.90019495  19.19910181  17.92318288  13.89825465   1.52005183\n",
      "   0.08619272  -1.61905071  -5.34557396  -7.97379777 -10.58527072\n",
      " -13.49326364 -15.59604754 -16.22411632 -16.30619208 -16.47031557\n",
      " -16.81030642 -17.95488837 -18.85979686 -22.87407102 -26.3866723\n",
      " -32.10513594 -32.30250319 -32.60347015]\n",
      "|w| * |r| =  75.61255011829995\n",
      "cos_theta = [ 0.64361345  0.62901146  0.62375786  0.61986617  0.60425015  0.59000175\n",
      "  0.58824226  0.56428639  0.53957284  0.51946182  0.47849156  0.4638126\n",
      "  0.40922421  0.38333962  0.2906238   0.28963704  0.25391422  0.23703979\n",
      "  0.18380883  0.02010317  0.00113993 -0.02141246 -0.07069691 -0.10545601\n",
      " -0.13999357 -0.1784527  -0.20626268 -0.21456909 -0.21565457 -0.21782516\n",
      " -0.22232164 -0.2374591  -0.24942681 -0.30251686 -0.34897213 -0.42460062\n",
      " -0.42721087 -0.43119125]\n",
      "theta values = [0.87158607 0.89051537 0.897255   0.90222419 0.92197188 0.93973532\n",
      " 0.94191279 0.9712277  1.00086666 1.02457532 1.07186028 1.08850246\n",
      " 1.14919267 1.17738689 1.27591761 1.27694873 1.31407136 1.33147867\n",
      " 1.38593642 1.5506918  1.5696564  1.59221042 1.64155226 1.67644878\n",
      " 1.71125125 1.75021001 1.77855029 1.78704695 1.78815845 1.79038189\n",
      " 1.79499139 1.81054563 1.82288463 1.87812846 1.92727038 2.00931705\n",
      " 2.01220204 2.01660898]\n"
     ]
    }
   ],
   "source": [
    "# To find theta: use cos theta = omega * r / |omega|*|r| \n",
    "# This gives us the theta value so that we can plug later into d = r_earth*theta\n",
    "\n",
    "#Dot product portion (numerator):\n",
    "dotprod = (np.dot(omega_vector, rr_yass))\n",
    "print('w * r = ', dotprod)\n",
    "\n",
    "#Magnitude of omega * r (denominator):\n",
    "mag = (np.linalg.norm(omega_vector)*r_earth)\n",
    "print('|w| * |r| = ', mag)\n",
    "\n",
    "#Cos theta value:\n",
    "cos_theta = dotprod/mag\n",
    "print('cos_theta =', cos_theta)\n",
    "\n",
    "#Taking the inverse cos to finally get theta:\n",
    "theta = np.arccos(cos_theta)\n",
    "print('theta values =', theta)"
   ]
  },
  {
   "cell_type": "code",
   "execution_count": 204,
   "id": "2a75eb60",
   "metadata": {},
   "outputs": [
    {
     "name": "stdout",
     "output_type": "stream",
     "text": [
      "d = [ 5552.8748746   5673.47343703  5716.41158262  5748.07028309\n",
      "  5873.88286939  5987.05371615  6000.92636769  6187.69168359\n",
      "  6376.52147003  6527.56938869  6828.82184346  6934.84919133\n",
      "  7321.50652218  7501.13185532  8128.87110217  8135.44035049\n",
      "  8371.94862117  8482.85058648  8829.80090185  9879.45748358\n",
      " 10000.28092701 10143.97260735 10458.32947959 10680.65519493\n",
      " 10902.38168898 11150.58797576 11331.14390796 11385.27613663\n",
      " 11392.35749627 11406.52302115 11435.89015414 11534.98618176\n",
      " 11613.59800801 11965.55643444 12278.63957212 12801.35894145\n",
      " 12819.73921877 12847.81584336]\n"
     ]
    }
   ],
   "source": [
    "#Now that we have our theta values, the great circle distance (d) can be found through:\n",
    "d = r_earth*theta\n",
    "print(\"d =\", d)"
   ]
  },
  {
   "cell_type": "code",
   "execution_count": 205,
   "id": "7c235b91",
   "metadata": {},
   "outputs": [
    {
     "name": "stdout",
     "output_type": "stream",
     "text": [
      "[57.87011949 58.78089597 59.1001029  59.33373869 60.24767762 61.04972164\n",
      " 61.14671705 62.42414186 63.66114919 64.61044496 66.39478681 66.98767843\n",
      " 68.99145097 69.83631514 72.34891568 72.37153582 73.13448041 73.45758811\n",
      " 74.32426423 75.59726965 75.61250099 75.5952142  75.42335563 75.1909322\n",
      " 74.86794894 74.39885464 73.98662742 73.85144403 73.83336533 73.79692704\n",
      " 73.72022337 73.44984492 73.22271367 72.06965111 70.85902384 68.45814767\n",
      " 68.36523987 68.22222123]\n"
     ]
    }
   ],
   "source": [
    "#To manually calculate our \"theoretical\" values, we use the expression we derived in Question 3a:\n",
    "theo_v = np.linalg.norm(omega_vector)*r_earth*np.sin(theta)\n",
    "print(theo_v)"
   ]
  },
  {
   "cell_type": "code",
   "execution_count": 206,
   "id": "7dd7e7ac",
   "metadata": {},
   "outputs": [
    {
     "data": {
      "text/plain": [
       "Text(0.5, 1.0, 'Plot of Great Circle Distance VS Velocity/Spreading Rate')"
      ]
     },
     "execution_count": 206,
     "metadata": {},
     "output_type": "execute_result"
    },
    {
     "data": {
      "image/png": "[encoded data removed]",
      "text/plain": [
       "<Figure size 432x288 with 1 Axes>"
      ]
     },
     "metadata": {},
     "output_type": "display_data"
    }
   ],
   "source": [
    "#Now we now have our calculated d values and our theoretical v values, we can now plot them like so:\n",
    "\n",
    "x = d # our main x-axis\n",
    "y = spr_rate # Measured Spreading rates as taken from the .csv file\n",
    "plt.style.use('seaborn-whitegrid')\n",
    "plt.scatter(x,y, label='Measured Value', color = 'salmon')\n",
    "plt.scatter(x,theo_v, label='Calculated Value', color = 'cornflowerblue') #Calculated Value\n",
    "plt.xlim([4000, 14000])\n",
    "plt.ylim([40, 80])\n",
    "plt.legend()\n",
    "plt.xlabel('Great Circle Distance \"d\" (km)')\n",
    "plt.ylabel('Spreading Rates (mm/yr)')\n",
    "plt.title(\"Plot of Great Circle Distance VS Velocity/Spreading Rate\")"
   ]
  },
  {
   "cell_type": "code",
   "execution_count": null,
   "id": "2e7d632b",
   "metadata": {},
   "outputs": [],
   "source": []
  }
 ],
 "metadata": {
  "kernelspec": {
   "display_name": "Python 3 (ipykernel)",
   "language": "python",
   "name": "python3"
  },
  "language_info": {
   "codemirror_mode": {
    "name": "ipython",
    "version": 3
   },
   "file_extension": ".py",
   "mimetype": "text/x-python",
   "name": "python",
   "nbconvert_exporter": "python",
   "pygments_lexer": "ipython3",
   "version": "3.10.9"
  }
 },
 "nbformat": 4,
 "nbformat_minor": 5
}
